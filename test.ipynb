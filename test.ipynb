{
 "cells": [
  {
   "cell_type": "code",
   "execution_count": 1,
   "id": "433bbaca",
   "metadata": {},
   "outputs": [],
   "source": [
    "from langchain_community.llms import Ollama\n",
    "from langchain_community.chat_models import ChatOllama\n",
    "\n",
    "# pip install langchain-core>=0.3.70"
   ]
  },
  {
   "cell_type": "code",
   "execution_count": 17,
   "id": "5652081f",
   "metadata": {},
   "outputs": [],
   "source": [
    "import sqlite3\n",
    "from langchain_openai import ChatOpenAI\n",
    "from langchain_core.prompts import ChatPromptTemplate\n",
    "from langgraph.graph import StateGraph, END\n",
    "# from langchain_community.chat_models import ChatOllama\n",
    "from langchain_ollama import ChatOllama\n",
    "\n",
    "llm = ChatOllama(model=\"mistral\")"
   ]
  },
  {
   "cell_type": "code",
   "execution_count": null,
   "id": "ad0ed088",
   "metadata": {},
   "outputs": [],
   "source": [
    "from langchain_groq import ChatGroq\n",
    "from langgraph.graph import StateGraph, END\n",
    "\n",
    "# Your Groq API key\n",
    "groq_api_key = \"DUMMY_API_KEY\"\n",
    "\n",
    "# Create the Groq chat model\n",
    "llm = ChatGroq(\n",
    "    api_key=groq_api_key,\n",
    "    model=\"llama-3.1-8b-instant\",   # Groq's popular free model\n",
    "    temperature=0\n",
    ")\n",
    "\n",
    "# llm = ChatOpenAI(model=\"gpt-4o\", temperature=0)\n",
    "# llm = ChatOllama(model=\"mistral\", temperature=0)"
   ]
  },
  {
   "cell_type": "code",
   "execution_count": 45,
   "id": "35c7122d",
   "metadata": {},
   "outputs": [
    {
     "name": "stdout",
     "output_type": "stream",
     "text": [
      "Database 'onx_focus.db' with 100 global records created.\n"
     ]
    }
   ],
   "source": [
    "import sqlite3\n",
    "import random\n",
    "from faker import Faker\n",
    "\n",
    "# Create DB\n",
    "db_path = r\"D:\\chatbot\\onx_focus.db\"\n",
    "\n",
    "conn = sqlite3.connect(db_path)\n",
    "cursor = conn.cursor()\n",
    "\n",
    "\n",
    "# Drop existing table if exists\n",
    "cursor.execute(\"DROP TABLE IF EXISTS global_users\")\n",
    "\n",
    "# Create table\n",
    "cursor.execute(\"\"\"\n",
    "CREATE TABLE global_users (\n",
    "    id INTEGER PRIMARY KEY AUTOINCREMENT,\n",
    "    name TEXT,\n",
    "    age INTEGER,\n",
    "    gender TEXT,\n",
    "    email TEXT,\n",
    "    phone TEXT,\n",
    "    country TEXT,\n",
    "    city TEXT,\n",
    "    language TEXT,\n",
    "    occupation TEXT,\n",
    "    company TEXT,\n",
    "    salary INTEGER,\n",
    "    marital_status TEXT,\n",
    "    is_active INTEGER,\n",
    "    registration_date TEXT\n",
    ")\n",
    "\"\"\")\n",
    "\n",
    "# Setup Faker\n",
    "Faker.seed(123)\n",
    "fake = Faker('en_US')  # locale specified directly here\n",
    "\n",
    "countries = [\"USA\", \"India\", \"Germany\", \"Japan\", \"Brazil\", \"South Africa\", \"Australia\", \"UK\", \"Canada\", \"China\"]\n",
    "languages = [\"English\", \"Hindi\", \"German\", \"Japanese\", \"Portuguese\", \"Zulu\", \"Mandarin\", \"French\", \"Spanish\", \"Arabic\"]\n",
    "occupations = [\"Engineer\", \"Teacher\", \"Doctor\", \"Artist\", \"Developer\", \"Manager\", \"Chef\", \"Nurse\", \"Designer\", \"Writer\"]\n",
    "marital_statuses = [\"Single\", \"Married\", \"Divorced\", \"Widowed\"]\n",
    "\n",
    "# Insert 100 rows\n",
    "for _ in range(100):\n",
    "    name = fake.name()\n",
    "    age = random.randint(20, 70)\n",
    "    gender = random.choice([\"Male\", \"Female\", \"Other\"])\n",
    "    email = fake.email()\n",
    "    phone = fake.phone_number()\n",
    "    country = random.choice(countries)\n",
    "    city = fake.city()\n",
    "    language = random.choice(languages)\n",
    "    occupation = random.choice(occupations)\n",
    "    company = fake.company()\n",
    "    salary = random.randint(30000, 150000)\n",
    "    marital_status = random.choice(marital_statuses)\n",
    "    is_active = random.choice([0, 1])\n",
    "    registration_date = fake.date_this_decade().isoformat()\n",
    "\n",
    "    cursor.execute(\"\"\"\n",
    "    INSERT INTO global_users (\n",
    "        name, age, gender, email, phone,\n",
    "        country, city, language, occupation, company,\n",
    "        salary, marital_status, is_active, registration_date\n",
    "    ) VALUES (?, ?, ?, ?, ?, ?, ?, ?, ?, ?, ?, ?, ?, ?)\n",
    "    \"\"\", (\n",
    "        name, age, gender, email, phone,\n",
    "        country, city, language, occupation, company,\n",
    "        salary, marital_status, is_active, registration_date\n",
    "    ))\n",
    "\n",
    "# Commit and close\n",
    "conn.commit()\n",
    "conn.close()\n",
    "\n",
    "print(\"Database 'onx_focus.db' with 100 global records created.\")"
   ]
  },
  {
   "cell_type": "code",
   "execution_count": 46,
   "id": "23e3887f",
   "metadata": {},
   "outputs": [],
   "source": [
    "# Connect to SQLite\n",
    "conn = sqlite3.connect(r\"D:\\chatbot\\onx_focus.db\")\n",
    "\n",
    "# ----- PROMPT TEMPLATE -----\n",
    "sql_prompt = ChatPromptTemplate.from_messages(\n",
    "    [\n",
    "        (\n",
    "            \"system\",\n",
    "            \"You are an expert SQL developer. \"\n",
    "            \"Your job is to write an SQLite SQL query that answers the user's question, \"\n",
    "            \"given the database schema provided. \"\n",
    "            \"Follow these rules strictly:\\n\"\n",
    "            \"1. Do not explain anything — only provide valid SQL code.\\n\"\n",
    "            \"2. Wrap ALL table names and column names in double quotes.\\n\"\n",
    "            \"   For example:\\n\"\n",
    "            \"      SELECT \\\"name\\\", \\\"age\\\" FROM \\\"users\\\";\\n\"\n",
    "            \"3. Use WHERE clauses only when required to answer the question.\\n\"\n",
    "            \"4. If the user requests all columns, use SELECT * FROM ...\\n\"\n",
    "            \"5. Do not add comments or natural language in your output.\\n\"\n",
    "            \"6. Return only pure SQL syntax, no markdown or ```sql blocks.\"\n",
    "        ),\n",
    "        (\n",
    "            \"human\",\n",
    "            \"Database schema:\\n{schema}\\n\\nUser question:\\n{question}\"\n",
    "        )\n",
    "    ]\n",
    ")\n",
    "\n",
    "# Get DB schema as text\n",
    "def get_schema(conn):\n",
    "    cursor = conn.cursor()\n",
    "    cursor.execute(\"SELECT name FROM sqlite_master WHERE type='table';\")\n",
    "    tables = cursor.fetchall()\n",
    "    \n",
    "    schema = \"\"\n",
    "    for table_name, in tables:\n",
    "        cursor.execute(f\"PRAGMA table_info({table_name});\")\n",
    "        cols = cursor.fetchall()\n",
    "        schema += f\"Table {table_name}:\\n\"\n",
    "        for col in cols:\n",
    "            schema += f\"  {col[1]} {col[2]}\\n\"\n",
    "        schema += \"\\n\"\n",
    "    return schema\n",
    "\n",
    "schema_text = get_schema(conn)"
   ]
  },
  {
   "cell_type": "code",
   "execution_count": 47,
   "id": "f16eae97",
   "metadata": {},
   "outputs": [],
   "source": [
    "# ----- LangGraph Nodes -----\n",
    "\n",
    "# 1. Node: Generate SQL\n",
    "def generate_sql(state):\n",
    "    question = state[\"question\"]\n",
    "    \n",
    "    prompt = sql_prompt.format(schema=schema_text, question=question)\n",
    "    sql_query = llm.invoke(prompt).content.strip()\n",
    "    \n",
    "    # Remove code blocks if LLM returns ```sql ... ```\n",
    "    if sql_query.startswith(\"```\"):\n",
    "        sql_query = sql_query.strip(\"`\").strip().split(\"\\n\", 1)[-1]\n",
    "    \n",
    "    state[\"sql_query\"] = sql_query\n",
    "    return state"
   ]
  },
  {
   "cell_type": "code",
   "execution_count": 48,
   "id": "1bcf6778",
   "metadata": {},
   "outputs": [],
   "source": [
    "# 2. Node: Execute SQL\n",
    "def execute_sql(state):\n",
    "    sql_query = state[\"sql_query\"]\n",
    "    \n",
    "    try:\n",
    "        cursor = conn.cursor()\n",
    "        cursor.execute(sql_query)\n",
    "        rows = cursor.fetchall()\n",
    "        state[\"result\"] = rows\n",
    "    except Exception as e:\n",
    "        state[\"result\"] = f\"SQL Execution error: {str(e)}\"\n",
    "    \n",
    "    return state"
   ]
  },
  {
   "cell_type": "code",
   "execution_count": 41,
   "metadata": {},
   "outputs": [],
   "source": [
    "# 3. Node: Format Response\n",
    "def format_result(state):\n",
    "    rows = state[\"result\"]\n",
    "    \n",
    "    if isinstance(rows, str):\n",
    "        # Error string\n",
    "        state[\"answer\"] = rows\n",
    "    elif rows:\n",
    "        # Format rows as text table\n",
    "        formatted = \"\\n\".join(str(row) for row in rows)\n",
    "        state[\"answer\"] = f\"Query results:\\n{formatted}\"\n",
    "    else:\n",
    "        state[\"answer\"] = \"Query returned no results.\"\n",
    "    \n",
    "    return state"
   ]
  },
  {
   "cell_type": "code",
   "execution_count": 42,
   "id": "54eb7d76",
   "metadata": {},
   "outputs": [],
   "source": [
    "# ----- Build the Graph -----\n",
    "\n",
    "# Define graph\n",
    "graph = StateGraph(state_schema=dict)\n",
    "\n",
    "graph.add_node(\"GenerateSQL\", generate_sql)\n",
    "graph.add_node(\"ExecuteSQL\", execute_sql)\n",
    "graph.add_node(\"FormatResult\", format_result)\n",
    "\n",
    "# Connect nodes\n",
    "graph.set_entry_point(\"GenerateSQL\")\n",
    "graph.add_edge(\"GenerateSQL\", \"ExecuteSQL\")\n",
    "graph.add_edge(\"ExecuteSQL\", \"FormatResult\")\n",
    "graph.add_edge(\"FormatResult\", END)\n",
    "\n",
    "# Compile graph\n",
    "runnable = graph.compile()"
   ]
  },
  {
   "cell_type": "code",
   "execution_count": 50,
   "id": "8a8185b8",
   "metadata": {},
   "outputs": [
    {
     "data": {
      "image/png": "[encoded data removed]",
      "text/plain": [
       "<IPython.core.display.Image object>"
      ]
     },
     "metadata": {},
     "output_type": "display_data"
    }
   ],
   "source": [
    "from IPython.display import Image, display\n",
    "try:\n",
    "    display(Image(runnable.get_graph().draw_mermaid_png()))\n",
    "except Exception:\n",
    "    pass\n"
   ]
  },
  {
   "cell_type": "code",
   "execution_count": 57,
   "id": "da353ac0",
   "metadata": {},
   "outputs": [
    {
     "data": {
      "text/plain": [
       "{'question': 'How many users are from India?',\n",
       " 'sql_query': 'SELECT COUNT(*) FROM \"global_users\" WHERE \"country\" = \\'India\\'',\n",
       " 'result': [(15,)],\n",
       " 'answer': 'Query results:\\n(15,)'}"
      ]
     },
     "execution_count": 57,
     "metadata": {},
     "output_type": "execute_result"
    }
   ],
   "source": [
    "user_question = \"How many users are from India?\"\n",
    "\n",
    "# Initial state\n",
    "state = {\"question\": user_question}\n",
    "\n",
    "final_state = runnable.invoke(state)\n",
    "\n",
    "# print(\"SQL Query:\\n\", final_state[\"sql_query\"])\n",
    "# print(\"\\nFinal Answer:\\n\", final_state[\"answer\"])\n",
    "final_state"
   ]
  },
  {
   "cell_type": "code",
   "execution_count": 56,
   "metadata": {},
   "outputs": [
    {
     "name": "stdout",
     "output_type": "stream",
     "text": [
      "SQL Query:\n",
      " SELECT \"name\", \"email\" FROM \"global_users\" WHERE \"is_active\" = 1\n",
      "\n",
      "Final Answer:\n",
      " Query results:\n",
      "('Brandon Russell', 'robersonnancy@example.com')\n",
      "('Nicholas Garcia', 'davisdouglas@example.org')\n",
      "('Katelyn Barnett', 'william21@example.com')\n",
      "('Deborah Williams', 'blanchardwilliam@example.org')\n",
      "('Tammy Rogers', 'whiteandrew@example.net')\n",
      "('Andrew Smith', 'jamesadams@example.org')\n",
      "('Alexander Ward', 'stevenperry@example.net')\n",
      "('Andrew Gonzales', 'lisayoung@example.com')\n",
      "('Mark Jones', 'jennifersimmons@example.com')\n",
      "('Brandon Green', 'wadedavid@example.com')\n",
      "('Susan Martin', 'volson@example.com')\n",
      "('Phillip Perkins', 'nkrueger@example.com')\n",
      "('Dr. Timothy Sullivan MD', 'laurareynolds@example.net')\n",
      "('Frank Jones', 'cody70@example.org')\n",
      "('Kyle Moore', 'sean95@example.net')\n",
      "('Gary Clark', 'georgemendez@example.com')\n",
      "('Matthew Gilmore', 'jakesanchez@example.org')\n",
      "('Benjamin Ruiz', 'seanyoung@example.com')\n",
      "('Michael Salas', 'johnsonheather@example.net')\n",
      "('Douglas Thomas', 'hammondleah@example.com')\n",
      "('Jason Smith', 'robert70@example.com')\n",
      "('Michael Brady', 'moniquemorris@example.com')\n",
      "('Lori Bush', 'michaelkim@example.net')\n",
      "('Anthony Patterson', 'michelemartinez@example.com')\n",
      "('Dillon Watson', 'eochoa@example.net')\n",
      "('Susan Flores', 'robertsalexander@example.net')\n",
      "('Robert Fisher', 'matthew22@example.org')\n",
      "('Marvin Jones', 'jamiebaldwin@example.org')\n",
      "('Jacob Bauer', 'janetdavis@example.net')\n",
      "('Mark Carter', 'vortiz@example.org')\n",
      "('Mrs. Angel Atkinson', 'michael18@example.org')\n",
      "('Elizabeth Roberson', 'justintaylor@example.org')\n",
      "('Deborah Franco', 'batesmichelle@example.net')\n",
      "('Charles Clark', 'jchandler@example.org')\n",
      "('Deanna Hendrix', 'glennsteven@example.net')\n",
      "('Robert Williams', 'ferrellrobert@example.org')\n",
      "('Carol Garza', 'bauerelizabeth@example.com')\n",
      "('Deborah Allen', 'edwardgarza@example.com')\n",
      "('Katherine Conrad', 'kari56@example.org')\n",
      "('Kristina Christian', 'hernandezmakayla@example.net')\n",
      "('Caroline Chen', 'terrelljeffrey@example.org')\n",
      "('Angela Higgins', 'wilsoncynthia@example.com')\n",
      "('Danielle Hendricks', 'blyons@example.org')\n",
      "('Matthew Sullivan', 'qsmith@example.org')\n",
      "('Joel Burke', 'ysmith@example.org')\n"
     ]
    }
   ],
   "source": [
    "print(\"SQL Query:\\n\", final_state[\"sql_query\"])\n",
    "print(\"\\nFinal Answer:\\n\", final_state[\"answer\"])"
   ]
  },
  {
   "cell_type": "code",
   "execution_count": null,
   "id": "7c5d01f2",
   "metadata": {},
   "outputs": [],
   "source": [
    "CREATE TABLE users (\n",
    "    id INTEGER PRIMARY KEY,\n",
    "    name TEXT,\n",
    "    age INTEGER,\n",
    "    city TEXT\n",
    ");\n",
    "\n",
    "INSERT INTO users (name, age, city) VALUES\n",
    "('Alice', 30, 'New York'),\n",
    "('Bob', 25, 'San Francisco'),\n",
    "('Carol', 40, 'Boston');\n"
   ]
  },
  {
   "cell_type": "code",
   "execution_count": null,
   "id": "dd2768ba",
   "metadata": {},
   "outputs": [],
   "source": [
    "from langchain_core.messages import HumanMessage, SystemMessage\n",
    "\n",
    "messages = [\n",
    "    SystemMessage(\"Translate the following from English into Italian\"),\n",
    "    HumanMessage(\"hi!\"),\n",
    "]\n",
    "\n",
    "model.invoke(messages)"
   ]
  },
  {
   "cell_type": "code",
   "execution_count": null,
   "id": "3a2c9a96",
   "metadata": {},
   "outputs": [],
   "source": []
  }
 ],
 "metadata": {
  "kernelspec": {
   "display_name": "venv",
   "language": "python",
   "name": "python3"
  },
  "language_info": {
   "codemirror_mode": {
    "name": "ipython",
    "version": 3
   },
   "file_extension": ".py",
   "mimetype": "text/x-python",
   "name": "python",
   "nbconvert_exporter": "python",
   "pygments_lexer": "ipython3",
   "version": "3.11.3"
  }
 },
 "nbformat": 4,
 "nbformat_minor": 5
}
